{
 "cells": [
  {
   "cell_type": "markdown",
   "metadata": {},
   "source": [
    "# Sparkify Project Workspace\n",
    "This workspace contains a tiny subset (128MB) of the full dataset available (12GB). Feel free to use this workspace to build your project, or to explore a smaller subset with Spark before deploying your cluster on the cloud. Instructions for setting up your Spark cluster is included in the last lesson of the Extracurricular Spark Course content.\n",
    "\n",
    "You can follow the steps below to guide your data analysis and model building portion of this project."
   ]
  },
  {
   "cell_type": "code",
   "execution_count": 1,
   "metadata": {},
   "outputs": [],
   "source": [
    "# import libraries\n",
    "import pandas as pd\n",
    "import numpy as np\n",
    "import seaborn as sns\n",
    "import matplotlib as plt\n",
    "import seaborn as sns\n",
    "import datetime\n",
    "from pyspark import SparkFiles\n",
    "from pyspark.sql import SparkSession, Window\n",
    "from pyspark.sql.functions import avg, col, concat, count, desc, asc, explode, lit, min, max, split, stddev, udf, isnan, when, rank, log, sqrt, cbrt, exp\n",
    "from pyspark.sql.functions import sum as Fsum\n",
    "from pyspark.sql.types import IntegerType\n",
    "from pyspark.ml import Pipeline \n",
    "from pyspark.ml.classification import LogisticRegression, LogisticRegressionModel, RandomForestClassifier, RandomForestClassificationModel, GBTClassifier, GBTClassificationModel\n",
    "from pyspark.ml.evaluation import MulticlassClassificationEvaluator\n",
    "from pyspark.ml.feature import CountVectorizer, IDF, Normalizer, PCA, RegexTokenizer, Tokenizer, StandardScaler, StopWordsRemover, StringIndexer, VectorAssembler, MaxAbsScaler\n",
    "from pyspark.ml.regression import LinearRegression\n",
    "from pyspark.ml.clustering import KMeans\n",
    "from pyspark.ml.tuning import CrossValidator, ParamGridBuilder\n",
    "from pyspark.mllib.evaluation import MulticlassMetrics"
   ]
  },
  {
   "cell_type": "code",
   "execution_count": 2,
   "metadata": {},
   "outputs": [],
   "source": [
    "spark = SparkSession.builder.getOrCreate()"
   ]
  },
  {
   "cell_type": "code",
   "execution_count": 3,
   "metadata": {},
   "outputs": [
    {
     "data": {
      "text/plain": [
       "[('spark.driver.port', '46571'),\n",
       " ('spark.app.id', 'local-1566874716039'),\n",
       " ('spark.driver.host', 'e2d178e02c72'),\n",
       " ('spark.rdd.compress', 'True'),\n",
       " ('spark.serializer.objectStreamReset', '100'),\n",
       " ('spark.master', 'local[*]'),\n",
       " ('spark.executor.id', 'driver'),\n",
       " ('spark.submit.deployMode', 'client'),\n",
       " ('spark.ui.showConsoleProgress', 'true'),\n",
       " ('spark.app.name', 'pyspark-shell')]"
      ]
     },
     "execution_count": 3,
     "metadata": {},
     "output_type": "execute_result"
    }
   ],
   "source": [
    "spark.sparkContext.getConf().getAll()"
   ]
  },
  {
   "cell_type": "markdown",
   "metadata": {},
   "source": [
    "# Load and Clean Dataset\n",
    "In this workspace, the mini-dataset file is `mini_sparkify_event_data.json`. Load and clean the dataset, checking for invalid or missing data - for example, records without userids or sessionids. "
   ]
  },
  {
   "cell_type": "code",
   "execution_count": 5,
   "metadata": {},
   "outputs": [
    {
     "data": {
      "text/plain": [
       "[Row(artist='Martha Tilston', auth='Logged In', firstName='Colin', gender='M', itemInSession=50, lastName='Freeman', length=277.89016, level='paid', location='Bakersfield, CA', method='PUT', page='NextSong', registration=1538173362000, sessionId=29, song='Rockpools', status=200, ts=1538352117000, userAgent='Mozilla/5.0 (Windows NT 6.1; WOW64; rv:31.0) Gecko/20100101 Firefox/31.0', userId='30')]"
      ]
     },
     "execution_count": 5,
     "metadata": {},
     "output_type": "execute_result"
    }
   ],
   "source": [
    "df = spark.read.json('mini_sparkify_event_data.json')\n",
    "df.take(1)"
   ]
  },
  {
   "cell_type": "code",
   "execution_count": 6,
   "metadata": {},
   "outputs": [
    {
     "data": {
      "text/plain": [
       "286500"
      ]
     },
     "execution_count": 6,
     "metadata": {},
     "output_type": "execute_result"
    }
   ],
   "source": [
    "df.count()"
   ]
  },
  {
   "cell_type": "code",
   "execution_count": 7,
   "metadata": {},
   "outputs": [
    {
     "data": {
      "text/plain": [
       "286500"
      ]
     },
     "execution_count": 7,
     "metadata": {},
     "output_type": "execute_result"
    }
   ],
   "source": [
    "df = df.dropna(how = \"any\", subset = [\"userId\", \"sessionId\"])\n",
    "df.count()"
   ]
  },
  {
   "cell_type": "code",
   "execution_count": 8,
   "metadata": {},
   "outputs": [
    {
     "data": {
      "text/plain": [
       "278154"
      ]
     },
     "execution_count": 8,
     "metadata": {},
     "output_type": "execute_result"
    }
   ],
   "source": [
    "df = df.filter(df.userId!=\"\")\n",
    "df.count()"
   ]
  },
  {
   "cell_type": "markdown",
   "metadata": {},
   "source": [
    "# Exploratory Data Analysis\n",
    "When you're working with the full dataset, perform EDA by loading a small subset of the data and doing basic manipulations within Spark. In this workspace, you are already provided a small subset of data you can explore.\n",
    "\n",
    "### Define Churn\n",
    "\n",
    "Once you've done some preliminary analysis, create a column `Churn` to use as the label for your model. I suggest using the `Cancellation Confirmation` events to define your churn, which happen for both paid and free users. As a bonus task, you can also look into the `Downgrade` events.\n",
    "\n",
    "### Explore Data\n",
    "Once you've defined churn, perform some exploratory data analysis to observe the behavior for users who stayed vs users who churned. You can start by exploring aggregates on these two groups of users, observing how much of a specific action they experienced per a certain time unit or number of songs played."
   ]
  },
  {
   "cell_type": "code",
   "execution_count": 9,
   "metadata": {},
   "outputs": [
    {
     "name": "stdout",
     "output_type": "stream",
     "text": [
      "root\n",
      " |-- artist: string (nullable = true)\n",
      " |-- auth: string (nullable = true)\n",
      " |-- firstName: string (nullable = true)\n",
      " |-- gender: string (nullable = true)\n",
      " |-- itemInSession: long (nullable = true)\n",
      " |-- lastName: string (nullable = true)\n",
      " |-- length: double (nullable = true)\n",
      " |-- level: string (nullable = true)\n",
      " |-- location: string (nullable = true)\n",
      " |-- method: string (nullable = true)\n",
      " |-- page: string (nullable = true)\n",
      " |-- registration: long (nullable = true)\n",
      " |-- sessionId: long (nullable = true)\n",
      " |-- song: string (nullable = true)\n",
      " |-- status: long (nullable = true)\n",
      " |-- ts: long (nullable = true)\n",
      " |-- userAgent: string (nullable = true)\n",
      " |-- userId: string (nullable = true)\n",
      "\n"
     ]
    }
   ],
   "source": [
    "df.printSchema()"
   ]
  },
  {
   "cell_type": "code",
   "execution_count": 15,
   "metadata": {},
   "outputs": [
    {
     "data": {
      "text/html": [
       "<div>\n",
       "<style scoped>\n",
       "    .dataframe tbody tr th:only-of-type {\n",
       "        vertical-align: middle;\n",
       "    }\n",
       "\n",
       "    .dataframe tbody tr th {\n",
       "        vertical-align: top;\n",
       "    }\n",
       "\n",
       "    .dataframe thead th {\n",
       "        text-align: right;\n",
       "    }\n",
       "</style>\n",
       "<table border=\"1\" class=\"dataframe\">\n",
       "  <thead>\n",
       "    <tr style=\"text-align: right;\">\n",
       "      <th></th>\n",
       "      <th>itemInSession</th>\n",
       "      <th>length</th>\n",
       "      <th>registration</th>\n",
       "      <th>sessionId</th>\n",
       "      <th>status</th>\n",
       "      <th>ts</th>\n",
       "    </tr>\n",
       "  </thead>\n",
       "  <tbody>\n",
       "    <tr>\n",
       "      <th>count</th>\n",
       "      <td>278154.000000</td>\n",
       "      <td>228108.000000</td>\n",
       "      <td>2.781540e+05</td>\n",
       "      <td>278154.000000</td>\n",
       "      <td>278154.000000</td>\n",
       "      <td>2.781540e+05</td>\n",
       "    </tr>\n",
       "    <tr>\n",
       "      <th>mean</th>\n",
       "      <td>114.899182</td>\n",
       "      <td>249.117182</td>\n",
       "      <td>1.535359e+12</td>\n",
       "      <td>1042.561624</td>\n",
       "      <td>209.103216</td>\n",
       "      <td>1.540959e+12</td>\n",
       "    </tr>\n",
       "    <tr>\n",
       "      <th>std</th>\n",
       "      <td>129.851729</td>\n",
       "      <td>99.235179</td>\n",
       "      <td>3.291322e+09</td>\n",
       "      <td>726.501036</td>\n",
       "      <td>30.151389</td>\n",
       "      <td>1.506829e+09</td>\n",
       "    </tr>\n",
       "    <tr>\n",
       "      <th>min</th>\n",
       "      <td>0.000000</td>\n",
       "      <td>0.783220</td>\n",
       "      <td>1.521381e+12</td>\n",
       "      <td>1.000000</td>\n",
       "      <td>200.000000</td>\n",
       "      <td>1.538352e+12</td>\n",
       "    </tr>\n",
       "    <tr>\n",
       "      <th>25%</th>\n",
       "      <td>27.000000</td>\n",
       "      <td>199.888530</td>\n",
       "      <td>1.533522e+12</td>\n",
       "      <td>338.000000</td>\n",
       "      <td>200.000000</td>\n",
       "      <td>1.539699e+12</td>\n",
       "    </tr>\n",
       "    <tr>\n",
       "      <th>50%</th>\n",
       "      <td>70.000000</td>\n",
       "      <td>234.500770</td>\n",
       "      <td>1.536664e+12</td>\n",
       "      <td>1017.000000</td>\n",
       "      <td>200.000000</td>\n",
       "      <td>1.540934e+12</td>\n",
       "    </tr>\n",
       "    <tr>\n",
       "      <th>75%</th>\n",
       "      <td>157.000000</td>\n",
       "      <td>277.158730</td>\n",
       "      <td>1.537672e+12</td>\n",
       "      <td>1675.000000</td>\n",
       "      <td>200.000000</td>\n",
       "      <td>1.542268e+12</td>\n",
       "    </tr>\n",
       "    <tr>\n",
       "      <th>max</th>\n",
       "      <td>1321.000000</td>\n",
       "      <td>3024.665670</td>\n",
       "      <td>1.543247e+12</td>\n",
       "      <td>2474.000000</td>\n",
       "      <td>404.000000</td>\n",
       "      <td>1.543799e+12</td>\n",
       "    </tr>\n",
       "  </tbody>\n",
       "</table>\n",
       "</div>"
      ],
      "text/plain": [
       "       itemInSession         length  registration      sessionId  \\\n",
       "count  278154.000000  228108.000000  2.781540e+05  278154.000000   \n",
       "mean      114.899182     249.117182  1.535359e+12    1042.561624   \n",
       "std       129.851729      99.235179  3.291322e+09     726.501036   \n",
       "min         0.000000       0.783220  1.521381e+12       1.000000   \n",
       "25%        27.000000     199.888530  1.533522e+12     338.000000   \n",
       "50%        70.000000     234.500770  1.536664e+12    1017.000000   \n",
       "75%       157.000000     277.158730  1.537672e+12    1675.000000   \n",
       "max      1321.000000    3024.665670  1.543247e+12    2474.000000   \n",
       "\n",
       "              status            ts  \n",
       "count  278154.000000  2.781540e+05  \n",
       "mean      209.103216  1.540959e+12  \n",
       "std        30.151389  1.506829e+09  \n",
       "min       200.000000  1.538352e+12  \n",
       "25%       200.000000  1.539699e+12  \n",
       "50%       200.000000  1.540934e+12  \n",
       "75%       200.000000  1.542268e+12  \n",
       "max       404.000000  1.543799e+12  "
      ]
     },
     "execution_count": 15,
     "metadata": {},
     "output_type": "execute_result"
    }
   ],
   "source": [
    "df.toPandas().describe()"
   ]
  },
  {
   "cell_type": "code",
   "execution_count": 18,
   "metadata": {},
   "outputs": [],
   "source": [
    "format_time = udf(lambda x: datetime.datetime.fromtimestamp(x / 1000.0).strftime(\"%Y-%m-%d %H:%M:%S\"))\n",
    "df = df.withColumn(\"time\", format_time(df.ts))\n",
    "df = df.withColumn(\"regdate\", format_time(df.registration))\n",
    "df.createOrReplaceTempView(\"df\")"
   ]
  },
  {
   "cell_type": "code",
   "execution_count": 33,
   "metadata": {},
   "outputs": [
    {
     "name": "stdout",
     "output_type": "stream",
     "text": [
      "+--------------------+\n",
      "|                page|\n",
      "+--------------------+\n",
      "|              Cancel|\n",
      "|    Submit Downgrade|\n",
      "|         Thumbs Down|\n",
      "|                Home|\n",
      "|           Downgrade|\n",
      "|         Roll Advert|\n",
      "|              Logout|\n",
      "|       Save Settings|\n",
      "|Cancellation Conf...|\n",
      "|               About|\n",
      "|            Settings|\n",
      "|     Add to Playlist|\n",
      "|          Add Friend|\n",
      "|            NextSong|\n",
      "|           Thumbs Up|\n",
      "|                Help|\n",
      "|             Upgrade|\n",
      "|               Error|\n",
      "|      Submit Upgrade|\n",
      "+--------------------+\n",
      "\n"
     ]
    }
   ],
   "source": [
    "spark.sql('''SELECT DISTINCT page\n",
    "          FROM df           \n",
    "          LIMIT 1000''').show(1000)"
   ]
  },
  {
   "cell_type": "code",
   "execution_count": 54,
   "metadata": {},
   "outputs": [
    {
     "data": {
      "text/plain": [
       "52"
      ]
     },
     "execution_count": 54,
     "metadata": {},
     "output_type": "execute_result"
    }
   ],
   "source": [
    "spark.sql('''SELECT DISTINCT userID\n",
    "          FROM df \n",
    "          WHERE page == \"Cancellation Confirmation\"\n",
    "          Group by userID,page\n",
    "          LIMIT 1000''').count()"
   ]
  },
  {
   "cell_type": "code",
   "execution_count": 53,
   "metadata": {},
   "outputs": [
    {
     "data": {
      "text/plain": [
       "795"
      ]
     },
     "execution_count": 53,
     "metadata": {},
     "output_type": "execute_result"
    }
   ],
   "source": [
    "spark.sql('''SELECT userID, song, page, sessionID, time \n",
    "          FROM df \n",
    "          WHERE userID == '10'\n",
    "          ORDER BY time \n",
    "          LIMIT 1000''').count()"
   ]
  },
  {
   "cell_type": "code",
   "execution_count": 36,
   "metadata": {},
   "outputs": [],
   "source": [
    "churn_users = spark.sql('''SELECT DISTINCT userID\n",
    "          FROM df \n",
    "          WHERE page == \"Cancellation Confirmation\"\n",
    "          Group by userID\n",
    "          LIMIT 1000''').collect()\n",
    "churn_users_list = [(row['userID']) for row in churn_users]\n",
    "df_churn_users = df.withColumn(\"churn\", df.userId.isin(churn_users_list))"
   ]
  },
  {
   "cell_type": "code",
   "execution_count": 37,
   "metadata": {},
   "outputs": [
    {
     "name": "stdout",
     "output_type": "stream",
     "text": [
      "+----------------------+-----+----+\n",
      "|count(DISTINCT userID)|month|year|\n",
      "+----------------------+-----+----+\n",
      "|                   213|   10|2018|\n",
      "|                   187|   11|2018|\n",
      "|                     4|   12|2018|\n",
      "+----------------------+-----+----+\n",
      "\n"
     ]
    }
   ],
   "source": [
    "df_churn_users.createOrReplaceTempView(\"df_churn\")\n",
    "spark.sql('''SELECT COUNT(DISTINCT userID), MONTH(time) as month, YEAR(time) as year\n",
    "          FROM df_churn \n",
    "          GROUP BY month, year\n",
    "          ORDER BY year, month\n",
    "          LIMIT 1000''').show()"
   ]
  },
  {
   "cell_type": "code",
   "execution_count": 38,
   "metadata": {},
   "outputs": [
    {
     "name": "stdout",
     "output_type": "stream",
     "text": [
      "+----------------------+--------+-------+\n",
      "|count(DISTINCT userID)|regmonth|regyear|\n",
      "+----------------------+--------+-------+\n",
      "|                     1|       3|   2018|\n",
      "|                     2|       5|   2018|\n",
      "|                    10|       6|   2018|\n",
      "|                    28|       7|   2018|\n",
      "|                    50|       8|   2018|\n",
      "|                   129|       9|   2018|\n",
      "|                     1|      10|   2018|\n",
      "|                     4|      11|   2018|\n",
      "+----------------------+--------+-------+\n",
      "\n"
     ]
    }
   ],
   "source": [
    "spark.sql('''SELECT COUNT(DISTINCT userID),MONTH(regdate) as regmonth, YEAR(regdate) as regyear\n",
    "          FROM df_churn \n",
    "          GROUP BY regmonth,regyear\n",
    "          ORDER BY regyear,regmonth\n",
    "          LIMIT 1000''').show()"
   ]
  },
  {
   "cell_type": "code",
   "execution_count": 39,
   "metadata": {},
   "outputs": [
    {
     "data": {
      "image/png": "[encoded data removed]",
      "text/plain": [
       "<matplotlib.figure.Figure at 0x7f1e189f3898>"
      ]
     },
     "metadata": {
      "needs_background": "light"
     },
     "output_type": "display_data"
    }
   ],
   "source": [
    "df_churn_users.createOrReplaceTempView(\"df_churn\")\n",
    "plot_gender = spark.sql('''SELECT COUNT(DISTINCT userID) as count, gender, churn\n",
    "          FROM df_churn \n",
    "          Group by gender, churn\n",
    "          ORDER BY churn\n",
    "          LIMIT 1000''').toPandas()\n",
    "sns.barplot(x='churn', y='count', hue='gender', data=plot_gender);"
   ]
  },
  {
   "cell_type": "code",
   "execution_count": 40,
   "metadata": {},
   "outputs": [
    {
     "data": {
      "image/png": "[encoded data removed]",
      "text/plain": [
       "<matplotlib.figure.Figure at 0x7f1e144d2828>"
      ]
     },
     "metadata": {
      "needs_background": "light"
     },
     "output_type": "display_data"
    }
   ],
   "source": [
    "plot_level = spark.sql('''SELECT COUNT(DISTINCT userID) as count, level, churn\n",
    "          FROM df_churn \n",
    "          Where page == \"Cancellation Confirmation\"\n",
    "          Group by level, churn\n",
    "          ORDER BY churn\n",
    "          LIMIT 1000''').toPandas()\n",
    "sns.barplot(x='level', y='count', data=plot_level);"
   ]
  },
  {
   "cell_type": "code",
   "execution_count": 41,
   "metadata": {},
   "outputs": [
    {
     "name": "stdout",
     "output_type": "stream",
     "text": [
      "+-----------+--------------------+-----+\n",
      "|count(page)|                page|churn|\n",
      "+-----------+--------------------+-----+\n",
      "|         56|               About| true|\n",
      "|        439|               About|false|\n",
      "|        636|          Add Friend| true|\n",
      "|       3641|          Add Friend|false|\n",
      "|       1038|     Add to Playlist| true|\n",
      "|       5488|     Add to Playlist|false|\n",
      "|         52|              Cancel| true|\n",
      "|         52|Cancellation Conf...| true|\n",
      "|        337|           Downgrade| true|\n",
      "|       1718|           Downgrade|false|\n",
      "|         32|               Error| true|\n",
      "|        220|               Error|false|\n",
      "|       1215|                Help|false|\n",
      "|        239|                Help| true|\n",
      "|       1672|                Home| true|\n",
      "|       8410|                Home|false|\n",
      "|       2673|              Logout|false|\n",
      "|        553|              Logout| true|\n",
      "|        967|         Roll Advert| true|\n",
      "|       2966|         Roll Advert|false|\n",
      "|        252|       Save Settings|false|\n",
      "|         58|       Save Settings| true|\n",
      "|       1244|            Settings|false|\n",
      "|        270|            Settings| true|\n",
      "|          9|    Submit Downgrade| true|\n",
      "|         54|    Submit Downgrade|false|\n",
      "|        127|      Submit Upgrade|false|\n",
      "|         32|      Submit Upgrade| true|\n",
      "|       2050|         Thumbs Down|false|\n",
      "|        496|         Thumbs Down| true|\n",
      "|      10692|           Thumbs Up|false|\n",
      "|       1859|           Thumbs Up| true|\n",
      "|        387|             Upgrade|false|\n",
      "|        112|             Upgrade| true|\n",
      "+-----------+--------------------+-----+\n",
      "\n"
     ]
    }
   ],
   "source": [
    "spark.sql('''SELECT COUNT(page), page,churn\n",
    "          FROM df_churn \n",
    "          Where page NOT IN (\"NextSong\") \n",
    "          Group by page, churn\n",
    "          ORDER BY page\n",
    "          LIMIT 1000''').show(1000)"
   ]
  },
  {
   "cell_type": "code",
   "execution_count": null,
   "metadata": {},
   "outputs": [],
   "source": []
  },
  {
   "cell_type": "markdown",
   "metadata": {},
   "source": [
    "# Feature Engineering\n",
    "Once you've familiarized yourself with the data, build out the features you find promising to train your model on. To work with the full dataset, you can follow the following steps.\n",
    "- Write a script to extract the necessary features from the smaller subset of data\n",
    "- Ensure that your script is scalable, using the best practices discussed in Lesson 3\n",
    "- Try your script on the full data set, debugging your script if necessary\n",
    "\n",
    "If you are working in the classroom workspace, you can just extract features based on the small subset of data contained here. Be sure to transfer over this work to the larger dataset when you work on your Spark cluster."
   ]
  },
  {
   "cell_type": "code",
   "execution_count": 42,
   "metadata": {},
   "outputs": [
    {
     "name": "stdout",
     "output_type": "stream",
     "text": [
      "+------+-----+\n",
      "|userID|churn|\n",
      "+------+-----+\n",
      "|    10|    0|\n",
      "|   100|    0|\n",
      "|100001|    1|\n",
      "|100002|    0|\n",
      "|100003|    1|\n",
      "|100004|    0|\n",
      "|100005|    1|\n",
      "|100006|    1|\n",
      "|100007|    1|\n",
      "|100008|    0|\n",
      "|100009|    1|\n",
      "|100010|    0|\n",
      "|100011|    1|\n",
      "|100012|    1|\n",
      "|100013|    1|\n",
      "|100014|    1|\n",
      "|100015|    1|\n",
      "|100016|    0|\n",
      "|100017|    1|\n",
      "|100018|    0|\n",
      "+------+-----+\n",
      "only showing top 20 rows\n",
      "\n"
     ]
    }
   ],
   "source": [
    "df_churn_binary = spark.sql('''SELECT DISTINCT userID,\n",
    "          CASE WHEN churn == true THEN 1 ELSE 0 END as churn\n",
    "          FROM df_churn\n",
    "          GROUP BY userID, churn\n",
    "          ORDER BY userID\n",
    "          ''')\n",
    "df_churn_binary.show()"
   ]
  },
  {
   "cell_type": "code",
   "execution_count": 46,
   "metadata": {},
   "outputs": [
    {
     "name": "stdout",
     "output_type": "stream",
     "text": [
      "+------+------+\n",
      "|userID|gender|\n",
      "+------+------+\n",
      "|    10|     1|\n",
      "|   100|     1|\n",
      "|100001|     0|\n",
      "|100002|     0|\n",
      "|100003|     0|\n",
      "|100004|     0|\n",
      "|100005|     1|\n",
      "|100006|     0|\n",
      "|100007|     0|\n",
      "|100008|     0|\n",
      "|100009|     1|\n",
      "|100010|     0|\n",
      "|100011|     1|\n",
      "|100012|     1|\n",
      "|100013|     0|\n",
      "|100014|     1|\n",
      "|100015|     0|\n",
      "|100016|     1|\n",
      "|100017|     1|\n",
      "|100018|     1|\n",
      "+------+------+\n",
      "only showing top 20 rows\n",
      "\n"
     ]
    }
   ],
   "source": [
    "df_churn_gender = spark.sql('''SELECT DISTINCT userID,\n",
    "          CASE WHEN gender IN (\"M\") THEN 1 ELSE 0 END as gender\n",
    "          FROM df_churn\n",
    "          ORDER BY userID\n",
    "          ''')\n",
    "df_churn_gender_binary = df_churn_gender.withColumn('gender', df_churn_gender.gender.cast(\"int\"))\n",
    "df_churn_gender_binary.show()"
   ]
  },
  {
   "cell_type": "code",
   "execution_count": 47,
   "metadata": {},
   "outputs": [
    {
     "name": "stdout",
     "output_type": "stream",
     "text": [
      "+------+-----+\n",
      "|userID|songs|\n",
      "+------+-----+\n",
      "|    10|  673|\n",
      "|   100| 2682|\n",
      "|100001|  133|\n",
      "|100002|  195|\n",
      "|100003|   51|\n",
      "|100004|  942|\n",
      "|100005|  154|\n",
      "|100006|   26|\n",
      "|100007|  423|\n",
      "|100008|  772|\n",
      "|100009|  518|\n",
      "|100010|  275|\n",
      "|100011|   11|\n",
      "|100012|  476|\n",
      "|100013| 1131|\n",
      "|100014|  257|\n",
      "|100015|  800|\n",
      "|100016|  530|\n",
      "|100017|   52|\n",
      "|100018| 1002|\n",
      "+------+-----+\n",
      "only showing top 20 rows\n",
      "\n"
     ]
    }
   ],
   "source": [
    "df_churn_songs = spark.sql('''SELECT DISTINCT userID, COUNT(song) as songs\n",
    "          FROM df_churn\n",
    "          WHERE song NOT IN (\"Null\")\n",
    "          GROUP by userID\n",
    "          ORDER BY userID\n",
    "          ''')\n",
    "df_churn_songs.show()"
   ]
  },
  {
   "cell_type": "code",
   "execution_count": 48,
   "metadata": {},
   "outputs": [
    {
     "name": "stdout",
     "output_type": "stream",
     "text": [
      "+------+---------+\n",
      "|userID|thumbs_up|\n",
      "+------+---------+\n",
      "|    10|       37|\n",
      "|   100|      148|\n",
      "|100001|        8|\n",
      "|100002|        5|\n",
      "|100003|        3|\n",
      "|100004|       35|\n",
      "|100005|        7|\n",
      "|100006|        2|\n",
      "|100007|       19|\n",
      "|100008|       37|\n",
      "|100009|       23|\n",
      "|100010|       17|\n",
      "|100012|       18|\n",
      "|100013|       39|\n",
      "|100014|       17|\n",
      "|100015|       35|\n",
      "|100016|       25|\n",
      "|100017|        2|\n",
      "|100018|       46|\n",
      "|100019|        1|\n",
      "+------+---------+\n",
      "only showing top 20 rows\n",
      "\n"
     ]
    }
   ],
   "source": [
    "df_churn_thumbs_up = spark.sql('''SELECT DISTINCT userID, count(page) as thumbs_up\n",
    "          FROM df_churn\n",
    "          WHERE page == \"Thumbs Up\"\n",
    "          GROUP BY userID\n",
    "          ORDER BY userID\n",
    "          ''')\n",
    "df_churn_thumbs_up.show()"
   ]
  },
  {
   "cell_type": "code",
   "execution_count": 49,
   "metadata": {},
   "outputs": [
    {
     "name": "stdout",
     "output_type": "stream",
     "text": [
      "+------+-----------+\n",
      "|userID|thumbs_down|\n",
      "+------+-----------+\n",
      "|    10|          4|\n",
      "|   100|         27|\n",
      "|100001|          2|\n",
      "|100004|         11|\n",
      "|100005|          3|\n",
      "|100006|          2|\n",
      "|100007|          6|\n",
      "|100008|          6|\n",
      "|100009|          8|\n",
      "|100010|          5|\n",
      "|100011|          1|\n",
      "|100012|          9|\n",
      "|100013|         15|\n",
      "|100014|          3|\n",
      "|100015|          8|\n",
      "|100016|          5|\n",
      "|100017|          1|\n",
      "|100018|          9|\n",
      "|100019|          1|\n",
      "|100021|          5|\n",
      "+------+-----------+\n",
      "only showing top 20 rows\n",
      "\n"
     ]
    }
   ],
   "source": [
    "df_churn_thumbs_down = spark.sql('''SELECT DISTINCT userID, count(page) as thumbs_down\n",
    "          FROM df_churn\n",
    "          WHERE page == \"Thumbs Down\"\n",
    "          GROUP BY userID\n",
    "          ORDER BY userID\n",
    "          ''')\n",
    "df_churn_thumbs_down.show()"
   ]
  },
  {
   "cell_type": "code",
   "execution_count": 50,
   "metadata": {},
   "outputs": [
    {
     "name": "stdout",
     "output_type": "stream",
     "text": [
      "+------+------+\n",
      "|userID|artist|\n",
      "+------+------+\n",
      "|    10|   565|\n",
      "|   100|  1705|\n",
      "|100001|   125|\n",
      "|100002|   184|\n",
      "|100003|    50|\n",
      "|100004|   733|\n",
      "|100005|   149|\n",
      "|100006|    26|\n",
      "|100007|   357|\n",
      "|100008|   623|\n",
      "|100009|   442|\n",
      "|100010|   252|\n",
      "|100011|    11|\n",
      "|100012|   397|\n",
      "|100013|   826|\n",
      "|100014|   233|\n",
      "|100015|   627|\n",
      "|100016|   431|\n",
      "|100017|    51|\n",
      "|100018|   780|\n",
      "+------+------+\n",
      "only showing top 20 rows\n",
      "\n"
     ]
    }
   ],
   "source": [
    "df_churn_artists = spark.sql('''SELECT DISTINCT userID, count(distinct artist) as artist\n",
    "          FROM df_churn\n",
    "          GROUP BY userID\n",
    "          ORDER BY userID\n",
    "          ''')\n",
    "df_churn_artists.show()"
   ]
  },
  {
   "cell_type": "code",
   "execution_count": 51,
   "metadata": {},
   "outputs": [
    {
     "name": "stdout",
     "output_type": "stream",
     "text": [
      "+------+-----+\n",
      "|userID|level|\n",
      "+------+-----+\n",
      "|    10|    1|\n",
      "|   100|    0|\n",
      "|   100|    1|\n",
      "|100001|    0|\n",
      "|100002|    1|\n",
      "|100003|    0|\n",
      "|100004|    0|\n",
      "|100004|    1|\n",
      "|100005|    0|\n",
      "|100006|    0|\n",
      "|100007|    1|\n",
      "|100008|    1|\n",
      "|100008|    0|\n",
      "|100009|    0|\n",
      "|100009|    1|\n",
      "|100010|    0|\n",
      "|100011|    0|\n",
      "|100012|    1|\n",
      "|100012|    0|\n",
      "|100013|    1|\n",
      "+------+-----+\n",
      "only showing top 20 rows\n",
      "\n"
     ]
    }
   ],
   "source": [
    "df_churn_level_binary = spark.sql('''SELECT DISTINCT userID, CASE WHEN level == \"paid\" THEN 1 ELSE 0 END as level\n",
    "          FROM df_churn\n",
    "          GROUP BY userID, level\n",
    "          ORDER BY userID\n",
    "          ''')\n",
    "df_churn_level_binary.show()"
   ]
  },
  {
   "cell_type": "code",
   "execution_count": 52,
   "metadata": {},
   "outputs": [
    {
     "data": {
      "text/plain": [
       "225"
      ]
     },
     "execution_count": 52,
     "metadata": {},
     "output_type": "execute_result"
    }
   ],
   "source": [
    "df_churn_sessions = spark.sql('''SELECT DISTINCT userID, COUNT(DISTINCT sessionID) as sessions\n",
    "          FROM df_churn\n",
    "          GROUP BY userID\n",
    "          ORDER BY userID\n",
    "          ''')\n",
    "df_churn_sessions.count()"
   ]
  },
  {
   "cell_type": "code",
   "execution_count": 57,
   "metadata": {},
   "outputs": [],
   "source": [
    "df_churn_duration = spark.sql('''SELECT DISTINCT userId,  sessionId, (MAX(ts) - MIN(ts)/ 1000*60) as duration\n",
    "          FROM df_churn\n",
    "          GROUP BY userId, sessionId\n",
    "          ORDER BY userId\n",
    "          ''')\n",
    "df_churn_duration.createOrReplaceTempView(\"df_churn_duration\")\n",
    "\n",
    "df_churn_session_avg = spark.sql('''SELECT DISTINCT userId, MAX(duration) as max, MIN(duration) as min, AVG(duration) as avg_duration\n",
    "          FROM df_churn_duration\n",
    "          GROUP BY userId\n",
    "          ORDER BY userId\n",
    "          ''')"
   ]
  },
  {
   "cell_type": "code",
   "execution_count": 58,
   "metadata": {},
   "outputs": [],
   "source": [
    "df_final = spark.sql('''SELECT DISTINCT userID\n",
    "          FROM df_churn\n",
    "          ORDER BY userID\n",
    "          ''')\n",
    "for feature in [df_churn_gender, df_churn_binary,df_churn_thumbs_up,df_churn_thumbs_down,df_churn_songs, df_churn_artists, df_churn_session_avg, df_churn_level_binary, df_churn_sessions]:\n",
    "      df_final = df_final.join(feature,'userId')"
   ]
  },
  {
   "cell_type": "code",
   "execution_count": 59,
   "metadata": {},
   "outputs": [
    {
     "name": "stdout",
     "output_type": "stream",
     "text": [
      "+------+------+-----+---------+-----------+-----+------+----------------+----------------+--------------------+-----+--------+\n",
      "|userID|gender|churn|thumbs_up|thumbs_down|songs|artist|             max|             min|        avg_duration|level|sessions|\n",
      "+------+------+-----+---------+-----------+-----+------+----------------+----------------+--------------------+-----+--------+\n",
      "|100010|     0|    0|       17|          5|  275|   252|1.45025486408E12|1.44667003496E12|1.448188304702857...|    0|       7|\n",
      "|200002|     1|    0|       21|          6|  387|   339|1.44978668358E12| 1.4460905502E12|1.447456440463333...|    0|       6|\n",
      "|200002|     1|    0|       21|          6|  387|   339|1.44978668358E12| 1.4460905502E12|1.447456440463333...|    1|       6|\n",
      "|   124|     0|    0|      171|         41| 4079|  2232|1.45097532004E12| 1.4461683062E12|1.448620263595862E12|    1|      29|\n",
      "|    51|     1|    1|      100|         21| 2111|  1385|1.44737857214E12|1.44621887708E12|    1.44687686114E12|    1|      10|\n",
      "|     7|     1|    0|        7|          1|  150|   142|1.45037829114E12|1.44625735186E12|1.448264276717142...|    0|       7|\n",
      "|    15|     1|    0|       81|         14| 1914|  1302|1.45053758884E12| 1.4461048631E12|1.448024601897333...|    1|      15|\n",
      "|    54|     0|    1|      163|         29| 2841|  1744|1.44952892732E12| 1.4460540192E12|1.447838802125405...|    0|      37|\n",
      "|    54|     0|    1|      163|         29| 2841|  1744|1.44952892732E12| 1.4460540192E12|1.447838802125405...|    1|      37|\n",
      "|   155|     0|    0|       58|          3|  820|   643| 1.4508053277E12| 1.4487210149E12|1.449665179606666...|    1|       6|\n",
      "|   155|     0|    0|       58|          3|  820|   643| 1.4508053277E12| 1.4487210149E12|1.449665179606666...|    0|       6|\n",
      "|100014|     1|    1|       17|          3|  257|   233|1.45017707496E12|1.44684082984E12|1.448037334653333...|    1|       6|\n",
      "|   132|     0|    0|       96|         17| 1928|  1299|1.45026646518E12|1.44617524024E12| 1.44861543652875E12|    0|      16|\n",
      "|   132|     0|    0|       96|         17| 1928|  1299|1.45026646518E12|1.44617524024E12| 1.44861543652875E12|    1|      16|\n",
      "|   101|     1|    1|       86|         16| 1797|  1241|1.44734722174E12| 1.4460690467E12|   1.446644142442E12|    1|      10|\n",
      "|   101|     1|    1|       86|         16| 1797|  1241|1.44734722174E12| 1.4460690467E12|   1.446644142442E12|    0|      10|\n",
      "|    11|     0|    0|       40|          9|  647|   534|1.45071155176E12|1.44638822426E12| 1.44849762031375E12|    0|      16|\n",
      "|    11|     0|    0|       40|          9|  647|   534|1.45071155176E12|1.44638822426E12| 1.44849762031375E12|    1|      16|\n",
      "|   138|     1|    0|       95|         24| 2070|  1332| 1.4510136142E12|1.44645387296E12|1.448332138365333...|    1|      15|\n",
      "|   138|     1|    0|       95|         24| 2070|  1332| 1.4510136142E12|1.44645387296E12|1.448332138365333...|    0|      15|\n",
      "+------+------+-----+---------+-----------+-----+------+----------------+----------------+--------------------+-----+--------+\n",
      "only showing top 20 rows\n",
      "\n"
     ]
    }
   ],
   "source": [
    "df_final.show()"
   ]
  },
  {
   "cell_type": "code",
   "execution_count": 63,
   "metadata": {},
   "outputs": [],
   "source": [
    "output_path = \"final_data.csv\"\n",
    "df_final.write.mode('overwrite').save(output_path, format=\"csv\", header=True)"
   ]
  },
  {
   "cell_type": "code",
   "execution_count": 64,
   "metadata": {},
   "outputs": [
    {
     "data": {
      "text/plain": [
       "DataFrame[userID: string, gender: string, churn: string, thumbs_up: string, thumbs_down: string, songs: string, artist: string, max: string, min: string, avg_duration: string, level: string, sessions: string]"
      ]
     },
     "execution_count": 64,
     "metadata": {},
     "output_type": "execute_result"
    }
   ],
   "source": [
    "df_final = spark.read.csv(output_path, header=True)\n",
    "df_final.persist()"
   ]
  },
  {
   "cell_type": "code",
   "execution_count": 65,
   "metadata": {},
   "outputs": [],
   "source": [
    "num_features_list = df_final.columns[1:]\n",
    "for f in num_features_list:\n",
    "    f_name = f + \"Num\"\n",
    "    df_final = df_final.withColumn(f_name, df_final[f].cast(\"float\"))\n",
    "    df_final = df_final.drop(f)"
   ]
  },
  {
   "cell_type": "code",
   "execution_count": 66,
   "metadata": {},
   "outputs": [],
   "source": [
    "dataset = df_final.withColumn('label', df_final['churnNum'].cast('float')).drop('churn','churnNum')\n",
    "feature_cols = df_final.drop('label').drop('userId').drop('churnNum').columns"
   ]
  },
  {
   "cell_type": "code",
   "execution_count": 67,
   "metadata": {},
   "outputs": [
    {
     "name": "stdout",
     "output_type": "stream",
     "text": [
      "+------+---------+------------+--------------+--------+---------+-------------+-------------+---------------+--------+-----------+-----+\n",
      "|userID|genderNum|thumbs_upNum|thumbs_downNum|songsNum|artistNum|       maxNum|       minNum|avg_durationNum|levelNum|sessionsNum|label|\n",
      "+------+---------+------------+--------------+--------+---------+-------------+-------------+---------------+--------+-----------+-----+\n",
      "|   126|      1.0|       135.0|          21.0|  2577.0|   1643.0|1.45097923E12|1.44609365E12|  1.44830824E12|     1.0|       30.0|  0.0|\n",
      "|   126|      1.0|       135.0|          21.0|  2577.0|   1643.0|1.45097923E12|1.44609365E12|  1.44830824E12|     0.0|       30.0|  0.0|\n",
      "|   131|      1.0|        72.0|          20.0|  1564.0|   1100.0|1.45093519E12|1.44613192E12|  1.44827036E12|     0.0|       19.0|  0.0|\n",
      "|   131|      1.0|        72.0|          20.0|  1564.0|   1100.0|1.45093519E12|1.44613192E12|  1.44827036E12|     1.0|       19.0|  0.0|\n",
      "|   140|      0.0|       277.0|          75.0|  5664.0|   2819.0|1.45099011E12|1.44611108E12|  1.44850616E12|     0.0|       71.0|  0.0|\n",
      "|   140|      0.0|       277.0|          75.0|  5664.0|   2819.0|1.45099011E12|1.44611108E12|  1.44850616E12|     1.0|       71.0|  0.0|\n",
      "|    17|      0.0|        40.0|          13.0|   927.0|    741.0| 1.4471012E12|1.44624032E12|  1.44672804E12|     1.0|        7.0|  1.0|\n",
      "|    17|      0.0|        40.0|          13.0|   927.0|    741.0| 1.4471012E12|1.44624032E12|  1.44672804E12|     0.0|        7.0|  1.0|\n",
      "|   128|      1.0|        87.0|          18.0|  1728.0|   1163.0|1.45089692E12|1.44634374E12|  1.44845334E12|     1.0|       17.0|  0.0|\n",
      "|   128|      1.0|        87.0|          18.0|  1728.0|   1163.0|1.45089692E12|1.44634374E12|  1.44845334E12|     0.0|       17.0|  0.0|\n",
      "|200024|      1.0|        19.0|          13.0|   417.0|    368.0|1.44793285E12|1.44636681E12|  1.44736138E12|     0.0|        8.0|  1.0|\n",
      "|200024|      1.0|        19.0|          13.0|   417.0|    368.0|1.44793285E12|1.44636681E12|  1.44736138E12|     1.0|        8.0|  1.0|\n",
      "|    23|      0.0|        28.0|           6.0|   656.0|    553.0|1.45044983E12|1.44863802E12|    1.449563E12|     0.0|        4.0|  0.0|\n",
      "|    23|      0.0|        28.0|           6.0|   656.0|    553.0|1.45044983E12|1.44863802E12|    1.449563E12|     1.0|        4.0|  0.0|\n",
      "|    41|      0.0|        76.0|          10.0|  1894.0|   1319.0|1.45043043E12|  1.446228E12|  1.44882834E12|     1.0|       12.0|  0.0|\n",
      "|100004|      0.0|        35.0|          11.0|   942.0|    733.0|1.45085301E12|1.44622721E12|  1.44847222E12|     0.0|       21.0|  0.0|\n",
      "|100004|      0.0|        35.0|          11.0|   942.0|    733.0|1.45085301E12|1.44622721E12|  1.44847222E12|     1.0|       21.0|  0.0|\n",
      "|   104|      0.0|        84.0|          17.0|  1781.0|   1214.0|1.45074828E12|1.44645253E12|  1.44845426E12|     1.0|       26.0|  0.0|\n",
      "|   104|      0.0|        84.0|          17.0|  1781.0|   1214.0|1.45074828E12|1.44645253E12|  1.44845426E12|     0.0|       26.0|  0.0|\n",
      "|    60|      1.0|        84.0|           9.0|  1644.0|   1137.0|1.45059938E12| 1.4469118E12|  1.44898091E12|     0.0|       18.0|  0.0|\n",
      "+------+---------+------------+--------------+--------+---------+-------------+-------------+---------------+--------+-----------+-----+\n",
      "only showing top 20 rows\n",
      "\n"
     ]
    }
   ],
   "source": [
    "dataset.show()"
   ]
  },
  {
   "cell_type": "code",
   "execution_count": 68,
   "metadata": {},
   "outputs": [
    {
     "data": {
      "text/plain": [
       "['genderNum',\n",
       " 'thumbs_upNum',\n",
       " 'thumbs_downNum',\n",
       " 'songsNum',\n",
       " 'artistNum',\n",
       " 'maxNum',\n",
       " 'minNum',\n",
       " 'avg_durationNum',\n",
       " 'levelNum',\n",
       " 'sessionsNum']"
      ]
     },
     "execution_count": 68,
     "metadata": {},
     "output_type": "execute_result"
    }
   ],
   "source": [
    "feature_cols"
   ]
  },
  {
   "cell_type": "code",
   "execution_count": 69,
   "metadata": {},
   "outputs": [],
   "source": [
    "train, test = dataset.drop('userId').randomSplit([0.8, 0.2], seed=36)"
   ]
  },
  {
   "cell_type": "code",
   "execution_count": 70,
   "metadata": {},
   "outputs": [
    {
     "name": "stdout",
     "output_type": "stream",
     "text": [
      "+---------+------------+--------------+--------+---------+-------------+-------------+---------------+--------+-----------+-----+\n",
      "|genderNum|thumbs_upNum|thumbs_downNum|songsNum|artistNum|       maxNum|       minNum|avg_durationNum|levelNum|sessionsNum|label|\n",
      "+---------+------------+--------------+--------+---------+-------------+-------------+---------------+--------+-----------+-----+\n",
      "|      0.0|         6.0|           1.0|    85.0|     82.0|1.44903465E12|1.44903465E12|  1.44903465E12|     0.0|        1.0|  0.0|\n",
      "|      0.0|        11.0|           3.0|   254.0|    226.0|1.45092693E12|1.44607268E12|  1.44827194E12|     0.0|        9.0|  0.0|\n",
      "|      0.0|        14.0|           7.0|   377.0|    334.0|1.44797834E12|1.44625644E12|  1.44718954E12|     0.0|        6.0|  1.0|\n",
      "|      0.0|        14.0|           7.0|   377.0|    334.0|1.44797834E12|1.44625644E12|  1.44718954E12|     1.0|        6.0|  1.0|\n",
      "|      0.0|        20.0|           6.0|   633.0|    509.0|1.45097779E12|1.44782406E12|  1.44930229E12|     0.0|        6.0|  0.0|\n",
      "|      0.0|        20.0|           6.0|   633.0|    509.0|1.45097779E12|1.44782406E12|  1.44930229E12|     1.0|        6.0|  0.0|\n",
      "|      0.0|        27.0|           5.0|   505.0|    424.0|1.45070673E12| 1.4462959E12|  1.44871824E12|     1.0|       11.0|  0.0|\n",
      "|      0.0|        28.0|           6.0|   656.0|    553.0|1.45044983E12|1.44863802E12|    1.449563E12|     1.0|        4.0|  0.0|\n",
      "|      0.0|        35.0|          11.0|   942.0|    733.0|1.45085301E12|1.44622721E12|  1.44847222E12|     0.0|       21.0|  0.0|\n",
      "|      0.0|        35.0|          11.0|   942.0|    733.0|1.45085301E12|1.44622721E12|  1.44847222E12|     1.0|       21.0|  0.0|\n",
      "|      0.0|        37.0|           6.0|   772.0|    623.0|1.45073557E12|1.44676055E12|  1.44827495E12|     0.0|        6.0|  0.0|\n",
      "|      0.0|        37.0|           6.0|   772.0|    623.0|1.45073557E12|1.44676055E12|  1.44827495E12|     1.0|        6.0|  0.0|\n",
      "|      0.0|        39.0|          15.0|  1131.0|    826.0|1.44871431E12|1.44620244E12|  1.44738183E12|     1.0|       14.0|  1.0|\n",
      "|      0.0|        40.0|           9.0|   647.0|    534.0|1.45071158E12|1.44638817E12|  1.44849764E12|     0.0|       16.0|  0.0|\n",
      "|      0.0|        40.0|           9.0|   647.0|    534.0|1.45071158E12|1.44638817E12|  1.44849764E12|     1.0|       16.0|  0.0|\n",
      "|      0.0|        40.0|          13.0|   927.0|    741.0| 1.4471012E12|1.44624032E12|  1.44672804E12|     0.0|        7.0|  1.0|\n",
      "|      0.0|        40.0|          13.0|   927.0|    741.0| 1.4471012E12|1.44624032E12|  1.44672804E12|     1.0|        7.0|  1.0|\n",
      "|      0.0|        42.0|           4.0|   675.0|    550.0| 1.4509327E12|1.44633627E12|  1.44900175E12|     1.0|        9.0|  0.0|\n",
      "|      0.0|        43.0|           6.0|   839.0|    653.0|1.44869661E12|1.44627807E12|  1.44737698E12|     0.0|       12.0|  1.0|\n",
      "|      0.0|        46.0|           4.0|  1047.0|    808.0|1.45077266E12|1.44612209E12|  1.44771606E12|     0.0|        8.0|  0.0|\n",
      "+---------+------------+--------------+--------+---------+-------------+-------------+---------------+--------+-----------+-----+\n",
      "only showing top 20 rows\n",
      "\n"
     ]
    }
   ],
   "source": [
    "train.show()"
   ]
  },
  {
   "cell_type": "code",
   "execution_count": 71,
   "metadata": {},
   "outputs": [
    {
     "name": "stdout",
     "output_type": "stream",
     "text": [
      "+---------+------------+--------------+--------+---------+-------------+-------------+---------------+--------+-----------+-----+\n",
      "|genderNum|thumbs_upNum|thumbs_downNum|songsNum|artistNum|       maxNum|       minNum|avg_durationNum|levelNum|sessionsNum|label|\n",
      "+---------+------------+--------------+--------+---------+-------------+-------------+---------------+--------+-----------+-----+\n",
      "|      0.0|        11.0|           3.0|   343.0|    298.0|1.45077083E12|1.44618763E12|  1.44818727E12|     0.0|       13.0|  0.0|\n",
      "|      0.0|        27.0|           5.0|   505.0|    424.0|1.45070673E12| 1.4462959E12|  1.44871824E12|     0.0|       11.0|  0.0|\n",
      "|      0.0|        28.0|           6.0|   656.0|    553.0|1.45044983E12|1.44863802E12|    1.449563E12|     0.0|        4.0|  0.0|\n",
      "|      0.0|        39.0|          15.0|  1131.0|    826.0|1.44871431E12|1.44620244E12|  1.44738183E12|     0.0|       14.0|  1.0|\n",
      "|      0.0|        42.0|           4.0|   675.0|    550.0| 1.4509327E12|1.44633627E12|  1.44900175E12|     0.0|        9.0|  0.0|\n",
      "|      0.0|        43.0|           6.0|   839.0|    653.0|1.44869661E12|1.44627807E12|  1.44737698E12|     1.0|       12.0|  1.0|\n",
      "|      0.0|        57.0|          14.0|  1280.0|    929.0|1.45090373E12|1.44607111E12|   1.4481216E12|     0.0|       33.0|  0.0|\n",
      "|      0.0|        66.0|          11.0|  1078.0|    825.0| 1.4498102E12|1.44611502E12|  1.44746729E12|     0.0|       17.0|  0.0|\n",
      "|      0.0|        79.0|          22.0|  1457.0|   1075.0| 1.4489796E12|1.44607556E12|  1.44752207E12|     0.0|       21.0|  1.0|\n",
      "|      0.0|        84.0|          17.0|  1781.0|   1214.0|1.45074828E12|1.44645253E12|  1.44845426E12|     0.0|       26.0|  0.0|\n",
      "|      0.0|        84.0|          20.0|  1705.0|   1173.0|1.45078839E12|1.44618239E12|  1.44860696E12|     0.0|       17.0|  0.0|\n",
      "|      0.0|        91.0|          25.0|  1694.0|   1153.0|1.45097635E12|1.44610925E12|  1.44849358E12|     0.0|       33.0|  0.0|\n",
      "|      0.0|       122.0|          20.0|  2045.0|   1358.0|1.45065155E12|1.44605957E12|  1.44810102E12|     0.0|       26.0|  0.0|\n",
      "|      0.0|       127.0|          27.0|  2376.0|   1533.0| 1.4507471E12|1.44622787E12|  1.44870434E12|     0.0|       24.0|  0.0|\n",
      "|      0.0|       148.0|          17.0|  1749.0|   1201.0| 1.4504324E12|1.44612537E12|  1.44796405E12|     1.0|       19.0|  1.0|\n",
      "|      1.0|        28.0|           3.0|   547.0|    466.0|1.45086769E12|1.44682792E12|  1.44869543E12|     1.0|       10.0|  0.0|\n",
      "|      1.0|        30.0|           6.0|   667.0|    545.0|1.44926691E12|1.44671939E12|  1.44803194E12|     0.0|        5.0|  0.0|\n",
      "|      1.0|        34.0|           8.0|   650.0|    543.0|1.45082902E12|1.44625002E12|  1.44904107E12|     0.0|       10.0|  0.0|\n",
      "|      1.0|        37.0|          24.0|   650.0|    531.0|1.44865375E12|1.44618239E12|  1.44748288E12|     1.0|       11.0|  1.0|\n",
      "|      1.0|        41.0|          32.0|   963.0|    746.0|1.45079389E12|1.44666067E12|  1.44872217E12|     1.0|       15.0|  0.0|\n",
      "+---------+------------+--------------+--------+---------+-------------+-------------+---------------+--------+-----------+-----+\n",
      "only showing top 20 rows\n",
      "\n"
     ]
    }
   ],
   "source": [
    "test.show()"
   ]
  },
  {
   "cell_type": "code",
   "execution_count": null,
   "metadata": {},
   "outputs": [],
   "source": []
  },
  {
   "cell_type": "markdown",
   "metadata": {},
   "source": [
    "# Modeling\n",
    "Split the full dataset into train, test, and validation sets. Test out several of the machine learning methods you learned. Evaluate the accuracy of the various models, tuning parameters as necessary. Determine your winning model based on test accuracy and report results on the validation set. Since the churned users are a fairly small subset, I suggest using F1 score as the metric to optimize."
   ]
  },
  {
   "cell_type": "code",
   "execution_count": 72,
   "metadata": {},
   "outputs": [
    {
     "name": "stdout",
     "output_type": "stream",
     "text": [
      "+---------+------+------+--------+\n",
      "|precision|recall|    f1|accuracy|\n",
      "+---------+------+------+--------+\n",
      "|   0.5942|0.7708|0.6711|  0.7708|\n",
      "+---------+------+------+--------+\n",
      "\n"
     ]
    }
   ],
   "source": [
    "pred = dataset.select(\"label\").withColumn(\"prediction\", lit(0.0))\n",
    "\n",
    "evaluator = MulticlassClassificationEvaluator(predictionCol=\"prediction\", labelCol=\"label\")\n",
    "evalMetrics = {}\n",
    "evalMetrics[\"precision\"] = evaluator.evaluate(pred, {evaluator.metricName: \"weightedPrecision\"})\n",
    "evalMetrics[\"recall\"] = evaluator.evaluate(pred, {evaluator.metricName: \"weightedRecall\"})\n",
    "evalMetrics[\"f1\"] = evaluator.evaluate(pred, {evaluator.metricName: \"f1\"})\n",
    "evalMetrics[\"accuracy\"] = evaluator.evaluate(pred, {evaluator.metricName: \"accuracy\"})\n",
    "\n",
    "metrics_to_display = {k:round(v, 4) for k,v in evalMetrics.items()}\n",
    "spark.createDataFrame(pd.DataFrame([metrics_to_display], columns=metrics_to_display.keys())).show()"
   ]
  },
  {
   "cell_type": "code",
   "execution_count": 74,
   "metadata": {},
   "outputs": [],
   "source": [
    "def get_cv(classifier, grid):\n",
    "    assembler = VectorAssembler(inputCols=feature_cols, outputCol=\"rawFeatures\")\n",
    "    scaler = MaxAbsScaler(inputCol=\"rawFeatures\", outputCol=\"scaledFeatures\")\n",
    "\n",
    "    pipeline = Pipeline(stages=[assembler, scaler, classifier])\n",
    "\n",
    "    \n",
    "    cv = CrossValidator(\n",
    "        estimator=pipeline,\n",
    "        estimatorParamMaps=paramGrid,\n",
    "        evaluator=MulticlassClassificationEvaluator(metricName='f1'),\n",
    "        numFolds=3\n",
    "    )\n",
    "    \n",
    "    return cv"
   ]
  },
  {
   "cell_type": "code",
   "execution_count": 75,
   "metadata": {},
   "outputs": [],
   "source": [
    "def train_model(classifier, train, paramGrid):\n",
    "    cv = get_cv(classifier, paramGrid)\n",
    "\n",
    "    trained_model = cv.fit(train)\n",
    "    \n",
    "    return trained_model"
   ]
  },
  {
   "cell_type": "code",
   "execution_count": 76,
   "metadata": {},
   "outputs": [],
   "source": [
    "def evaluate_model(model, data):\n",
    "    pred = model.transform(data)\n",
    "    \n",
    "    evaluatedMetrics = {}\n",
    "    evaluatedMetrics[\"precision\"] = evaluator.evaluate(pred, {evaluator.metricName: \"weightedPrecision\"})\n",
    "    evaluatedMetrics[\"recall\"] = evaluator.evaluate(pred, {evaluator.metricName: \"weightedRecall\"})\n",
    "    evaluatedMetrics[\"f1\"] = evaluator.evaluate(pred, {evaluator.metricName: \"f1\"})\n",
    "    evaluatedMetrics[\"accuracy\"] = evaluator.evaluate(pred, {evaluator.metricName: \"accuracy\"})\n",
    "    \n",
    "    return evaluatedMetrics"
   ]
  },
  {
   "cell_type": "code",
   "execution_count": 77,
   "metadata": {},
   "outputs": [],
   "source": [
    "def evaluate_train_test(model, train, test):\n",
    "    evaluatedMetricsTraining = evaluate_model(model, train)\n",
    "    evaluatedMetricsTesting = evaluate_model(model, test)\n",
    "\n",
    "    evaluatedMetrics = {}\n",
    "    evaluatedMetrics['f1_train'] = evaluatedMetricsTraining['f1']\n",
    "    evaluatedMetrics['acc_train'] = evaluatedMetricsTraining['accuracy']\n",
    "    evaluatedMetrics['f1_test'] = evaluatedMetricsTesting['f1']\n",
    "    evaluatedMetrics['acc_test'] = evaluatedMetricsTesting['accuracy']\n",
    "\n",
    "    metrics_to_display = {k:round(v, 4) for k,v in evaluatedMetrics.items()}\n",
    "    summary = spark.createDataFrame(pd.DataFrame([metrics_to_display], columns=metrics_to_display.keys()))\n",
    "    \n",
    "    return evaluatedMetrics, summary"
   ]
  },
  {
   "cell_type": "code",
   "execution_count": 78,
   "metadata": {},
   "outputs": [],
   "source": [
    "def train_evaluate(classifier, train, test, paramGrid):\n",
    "    model = train_model(classifier, train, paramGrid)\n",
    "    \n",
    "    evaluatedMetricsTraining = evaluate_model(model, train)\n",
    "    evaluatedMetricsTesting = evaluate_model(model, test)\n",
    "  \n",
    "    evaluatedMetrics = {}\n",
    "    evaluatedMetrics['f1_train'] = evaluatedMetricsTraining['f1']\n",
    "    evaluatedMetrics['acc_train'] = evaluatedMetricsTraining['accuracy']\n",
    "    evaluatedMetrics['f1_test'] = evaluatedMetricsTesting['f1']\n",
    "    evaluatedMetrics['acc_test'] = evaluatedMetricsTesting['accuracy']\n",
    "    \n",
    "    metrics_to_display = {k:round(v, 4) for k,v in evaluatedMetrics.items()}\n",
    "    summary = spark.createDataFrame(pd.DataFrame([metrics_to_display], columns=metrics_to_display.keys()))\n",
    "    \n",
    "    return summary, model"
   ]
  },
  {
   "cell_type": "markdown",
   "metadata": {},
   "source": [
    "Linear Regression"
   ]
  },
  {
   "cell_type": "code",
   "execution_count": 79,
   "metadata": {},
   "outputs": [
    {
     "name": "stdout",
     "output_type": "stream",
     "text": [
      "+--------+---------+-------+--------+\n",
      "|f1_train|acc_train|f1_test|acc_test|\n",
      "+--------+---------+-------+--------+\n",
      "|  0.6661|   0.7672| 0.6888|  0.7838|\n",
      "+--------+---------+-------+--------+\n",
      "\n"
     ]
    }
   ],
   "source": [
    "classifier = LogisticRegression(labelCol=\"label\", featuresCol=\"scaledFeatures\")\n",
    "paramGrid=ParamGridBuilder().build()\n",
    "summary, model = train_evaluate(classifier, train, test, paramGrid)\n",
    "\n",
    "bestModel = model.bestModel\n",
    "bestCLModel = bestModel.stages[2]\n",
    "bestCLModel.write().overwrite().save(\"log_reg\")\n",
    "\n",
    "summary.show()"
   ]
  },
  {
   "cell_type": "markdown",
   "metadata": {},
   "source": [
    "Random Forest"
   ]
  },
  {
   "cell_type": "code",
   "execution_count": 80,
   "metadata": {},
   "outputs": [
    {
     "name": "stdout",
     "output_type": "stream",
     "text": [
      "+--------+---------+-------+--------+\n",
      "|f1_train|acc_train|f1_test|acc_test|\n",
      "+--------+---------+-------+--------+\n",
      "|  0.9923|   0.9924| 0.9316|  0.9324|\n",
      "+--------+---------+-------+--------+\n",
      "\n"
     ]
    }
   ],
   "source": [
    "classifier = RandomForestClassifier(labelCol=\"label\", featuresCol=\"scaledFeatures\")\n",
    "paramGrid=ParamGridBuilder().build()\n",
    "summary, model = train_evaluate(classifier, train, test, paramGrid)\n",
    "\n",
    "bestModel = model.bestModel\n",
    "bestCLModel = bestModel.stages[2]\n",
    "bestCLModel.write().overwrite().save(\"random_forest\")\n",
    "\n",
    "summary.show()"
   ]
  },
  {
   "cell_type": "markdown",
   "metadata": {},
   "source": [
    "Conclusion: Random Forest is better"
   ]
  },
  {
   "cell_type": "code",
   "execution_count": 81,
   "metadata": {},
   "outputs": [
    {
     "name": "stdout",
     "output_type": "stream",
     "text": [
      "+--------+---------+-------+--------+\n",
      "|f1_train|acc_train|f1_test|acc_test|\n",
      "+--------+---------+-------+--------+\n",
      "|     1.0|      1.0| 0.9316|  0.9324|\n",
      "+--------+---------+-------+--------+\n",
      "\n"
     ]
    }
   ],
   "source": [
    "classifier = RandomForestClassifier(labelCol=\"label\", featuresCol=\"scaledFeatures\")\n",
    "paramGrid=ParamGridBuilder().addGrid(classifier.numTrees,[15, 20, 25]).addGrid(classifier.maxBins,[15,20,25]).addGrid(classifier.maxDepth,[2,4,6]).build()\n",
    "summary, model = train_evaluate(classifier, train, test, paramGrid)\n",
    "\n",
    "bestModel = model.bestModel\n",
    "bestCLModel = bestModel.stages[2]\n",
    "bestCLModel.write().overwrite().save(\"random_forest_final\")\n",
    "\n",
    "summary.show()"
   ]
  },
  {
   "cell_type": "code",
   "execution_count": 82,
   "metadata": {},
   "outputs": [],
   "source": [
    "bestModel = model.bestModel\n",
    "bestCLModel = bestModel.stages[2]\n",
    "bestParams = bestCLModel.extractParamMap()\n",
    "\n",
    "feature_indices = bestCLModel.featureImportances.indices.tolist()\n",
    "feature_name = [feature_cols[indice] for indice in feature_indices]\n",
    "feature_coefficient = bestCLModel.featureImportances.values.tolist()\n",
    "\n",
    "feature_coefficient_df = pd.DataFrame(list(zip(feature_name, feature_coefficient)), columns=['Feature', 'Coefficient']).sort_values('Coefficient', ascending=False)"
   ]
  },
  {
   "cell_type": "code",
   "execution_count": 84,
   "metadata": {},
   "outputs": [
    {
     "data": {
      "image/png": "[encoded data removed]",
      "text/plain": [
       "<matplotlib.figure.Figure at 0x7f1e27f12908>"
      ]
     },
     "metadata": {
      "needs_background": "light"
     },
     "output_type": "display_data"
    }
   ],
   "source": [
    "sns.barplot(x='Coefficient', y='Feature', data=feature_coefficient_df.iloc[:20]);"
   ]
  },
  {
   "cell_type": "markdown",
   "metadata": {},
   "source": [
    "# Final Steps\n",
    "Clean up your code, adding comments and renaming variables to make the code easier to read and maintain. Refer to the Spark Project Overview page and Data Scientist Capstone Project Rubric to make sure you are including all components of the capstone project and meet all expectations. Remember, this includes thorough documentation in a README file in a Github repository, as well as a web app or blog post."
   ]
  },
  {
   "cell_type": "code",
   "execution_count": null,
   "metadata": {},
   "outputs": [],
   "source": []
  }
 ],
 "metadata": {
  "kernelspec": {
   "display_name": "Python 3",
   "language": "python",
   "name": "python3"
  },
  "language_info": {
   "codemirror_mode": {
    "name": "ipython",
    "version": 3
   },
   "file_extension": ".py",
   "mimetype": "text/x-python",
   "name": "python",
   "nbconvert_exporter": "python",
   "pygments_lexer": "ipython3",
   "version": "3.6.3"
  }
 },
 "nbformat": 4,
 "nbformat_minor": 2
}
